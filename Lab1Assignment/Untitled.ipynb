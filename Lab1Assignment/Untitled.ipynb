{
 "cells": [
  {
   "cell_type": "markdown",
   "metadata": {},
   "source": [
    "## AI TASK ONE"
   ]
  },
  {
   "cell_type": "code",
   "execution_count": 1,
   "metadata": {},
   "outputs": [],
   "source": [
    "#imposrting necessary modules\n",
    "import networkx as nx\n",
    "import matplotlib.pyplot as plt\n",
    "from collections import defaultdict"
   ]
  },
  {
   "cell_type": "code",
   "execution_count": 2,
   "metadata": {},
   "outputs": [],
   "source": [
    "class GreedyBFS:\n",
    "    def __init__(self):\n",
    "        pass\n",
    "    \n",
    "    #GBFS function\n",
    "    def DBFS (self, graph, start_node, goal_node):\n",
    "        pass"
   ]
  },
  {
   "cell_type": "markdown",
   "metadata": {},
   "source": [
    "Initializing network.\n",
    "All network nodes:\n",
    "    SportsComplex\n",
    "    Siwaka\n",
    "    Ph.1A\n",
    "    Ph.1B\n",
    "    STC\n",
    "    Phase2\n",
    "    Phase3\n",
    "    J1\n",
    "    ParkingLot\n",
    "    Mada"
   ]
  },
  {
   "cell_type": "code",
   "execution_count": 3,
   "metadata": {},
   "outputs": [],
   "source": [
    "G = nx.Graph()"
   ]
  },
  {
   "cell_type": "code",
   "execution_count": 4,
   "metadata": {},
   "outputs": [
    {
     "data": {
      "text/plain": [
       "NodeView(('SportsComplex', 'Siwaka', 'Ph.1A', 'Ph.1B', 'STC', 'Phase2', 'Phase3', 'J1', 'ParkingLot', 'Mada'))"
      ]
     },
     "execution_count": 4,
     "metadata": {},
     "output_type": "execute_result"
    }
   ],
   "source": [
    "nodes = [\"SportsComplex\", \"Siwaka\", \"Ph.1A\", \"Ph.1B\", \"STC\", \"Phase2\", \"Phase3\", \"J1\", \"ParkingLot\", \"Mada\"]\n",
    "G.add_nodes_from(nodes)\n",
    "G.nodes()"
   ]
  },
  {
   "cell_type": "markdown",
   "metadata": {},
   "source": [
    "add edges + weights + labels"
   ]
  },
  {
   "cell_type": "code",
   "execution_count": null,
   "metadata": {},
   "outputs": [],
   "source": [
    "G.add_edge(\"SportsComplex\", \"Siwaka\", weight = \"450\", label = \"UnkRoad\")\n",
    "G.add_edge(\"Siwaka\", \"Ph.1A\", weight = \"10\", label = \"SangaleRd\")\n",
    "G.add_edge(\"Siwaka\", \"Ph.1B\", weight = \"230\", label = \"SangaleLink\")\n",
    "G.add_edge(\"Ph.1A\", \"Mada\", weight = \"850\", label = \"SangaleRd\")\n",
    "G.add_edge(\"Ph.1A\", \"Ph.1B\", weight = \"100\", label = \"ParkingWalkWay\")\n",
    "G.add_edge(\"Ph.1B\", \"Phase2\", weight = \"112\", label = \"KeriRd\")\n",
    "G.add_edge(\"Phase2\", \"J1\", weight = \"600\", label = \"KeriRd\")\n",
    "G.add_edge(\"J1\", \"Mada\", weight = \"200\", label = \"SangaleRd\")\n",
    "G.add_edge(\"Phase2\", \"Phase3\", weight = \"500\", label = \"KeriRd\")\n",
    "\n",
    "G.add_edge(\"Ph.1B\", \"STC\", weight = \"50\", label = \"KeriRd\")\n",
    "G.add_edge(\"STC\", \"Phase2\", weight = \"50\", label = \"STCwalkway\")\n",
    "G.add_edge(\"STC\", \"ParkingLot\", weight = \"250\", label = \"LibraryWalkWay\")\n"
   ]
  }
 ],
 "metadata": {
  "kernelspec": {
   "display_name": "Python 3",
   "language": "python",
   "name": "python3"
  },
  "language_info": {
   "codemirror_mode": {
    "name": "ipython",
    "version": 3
   },
   "file_extension": ".py",
   "mimetype": "text/x-python",
   "name": "python",
   "nbconvert_exporter": "python",
   "pygments_lexer": "ipython3",
   "version": "3.7.4"
  }
 },
 "nbformat": 4,
 "nbformat_minor": 2
}
