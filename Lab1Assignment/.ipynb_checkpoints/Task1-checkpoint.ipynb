{
 "cells": [
  {
   "cell_type": "code",
   "execution_count": 1,
   "metadata": {},
   "outputs": [],
   "source": [
    "#imposrting necessary modules\n",
    "import networkx as nx\n",
    "import matplotlib.pyplot as plt\n",
    "from collections import defaultdict"
   ]
  },
  {
   "cell_type": "markdown",
   "metadata": {},
   "source": [
    "GBFS class "
   ]
  },
  {
   "cell_type": "code",
   "execution_count": 2,
   "metadata": {},
   "outputs": [],
   "source": [
    "class GreedyBFS:\n",
    "    def __init__(self):\n",
    "        pass\n",
    "    \n",
    "    #GBFS function\n",
    "    def DBFS (self, graph, start_node, goal_node):\n",
    "        pass"
   ]
  },
  {
   "cell_type": "markdown",
   "metadata": {},
   "source": [
    "UCS class"
   ]
  },
  {
   "cell_type": "code",
   "execution_count": 3,
   "metadata": {},
   "outputs": [],
   "source": [
    "class uniform_cost_algorithm:\n",
    "    pass\n",
    "    "
   ]
  },
  {
   "cell_type": "markdown",
   "metadata": {},
   "source": [
    "Initializing network.\n",
    "All network nodes:\n",
    "    SportsComplex\n",
    "    Siwaka\n",
    "    Ph.1A\n",
    "    Ph.1B\n",
    "    STC\n",
    "    Phase2\n",
    "    Phase3\n",
    "    J1\n",
    "    ParkingLot\n",
    "    Mada"
   ]
  },
  {
   "cell_type": "code",
   "execution_count": 4,
   "metadata": {},
   "outputs": [],
   "source": [
    "G = nx.Graph()"
   ]
  },
  {
   "cell_type": "code",
   "execution_count": 5,
   "metadata": {},
   "outputs": [
    {
     "data": {
      "text/plain": [
       "NodeView(('SportsComplex', 'Siwaka', 'Ph.1A', 'Ph.1B', 'STC', 'Phase2', 'Phase3', 'J1', 'ParkingLot', 'Mada'))"
      ]
     },
     "execution_count": 5,
     "metadata": {},
     "output_type": "execute_result"
    }
   ],
   "source": [
    "nodes = [\"SportsComplex\", \"Siwaka\", \"Ph.1A\", \"Ph.1B\", \"STC\", \"Phase2\", \"Phase3\", \"J1\", \"ParkingLot\", \"Mada\"]\n",
    "G.add_nodes_from(nodes)\n",
    "G.nodes()"
   ]
  },
  {
   "cell_type": "markdown",
   "metadata": {},
   "source": [
    "add edges + weights + labels"
   ]
  },
  {
   "cell_type": "code",
   "execution_count": 6,
   "metadata": {},
   "outputs": [],
   "source": [
    "G.add_edge(\"SportsComplex\", \"Siwaka\", weight = \"450\", label = \"UnkRoad\")\n",
    "G.add_edge(\"Siwaka\", \"Ph.1A\", weight = \"10\", label = \"SangaleRd\")\n",
    "\n",
    "G.add_edge(\"Siwaka\", \"Ph.1B\", weight = \"230\", label = \"SangaleLink\")\n",
    "\n",
    "G.add_edge(\"Ph.1A\", \"Mada\", weight = \"850\", label = \"SangaleRd\")\n",
    "G.add_edge(\"Ph.1A\", \"Ph.1B\", weight = \"100\", label = \"ParkingWalkWay\")\n",
    "G.add_edge(\"Ph.1B\", \"STC\", weight = \"50\", label = \"KeriRd\")\n",
    "G.add_edge(\"Ph.1B\", \"Phase2\", weight = \"112\", label = \"KeriRd\")\n",
    "G.add_edge(\"STC\", \"Phase2\", weight = \"50\", label = \"STCwalkway\")\n",
    "G.add_edge(\"STC\", \"ParkingLot\", weight = \"250\", label = \"LibraryWalkWay\")\n",
    "G.add_edge(\"Phase2\", \"J1\", weight = \"600\", label = \"KeriRd\")\n",
    "G.add_edge(\"Phase2\", \"Phase3\", weight = \"500\", label = \"KeriRd\")\n",
    "G.add_edge(\"J1\", \"Mada\", weight = \"200\", label = \"SangaleRd\")\n",
    "G.add_edge(\"Phase3\", \"ParkingLot\", weight = \"350\", label = \"HimaGardensRd\")\n",
    "G.add_edge(\"ParkingLot\", \"Mada\", weight = \"700\", label = \"LangataRd\")"
   ]
  },
  {
   "cell_type": "code",
   "execution_count": 8,
   "metadata": {},
   "outputs": [],
   "source": [
    "G.nodes[\"SportsComplex\"]['pos']=(0,0)\n",
    "G.node[\"Siwaka\"]['pos']=(3,0)\n",
    "G.nodes[\"Ph.1A\"]['pos']=(6,0)\n",
    "G.node[\"Ph.1B\"]['pos']=(6,-2)\n",
    "G.node[\"STC\"]['pos']=(6,-4)\n",
    "G.node[\"Phase2\"]['pos']=(8,-2)\n",
    "G.node[\"J1\"]['pos']=(10,-2)\n",
    "G.node[\"Phase3\"]['pos']=(10,-4)\n",
    "G.node[\"ParkingLot\"]['pos']=(10,-6)\n",
    "G.node[\"Mada\"]['pos']=(12,-2)"
   ]
  },
  {
   "cell_type": "code",
   "execution_count": 9,
   "metadata": {
    "scrolled": true
   },
   "outputs": [
    {
     "name": "stderr",
     "output_type": "stream",
     "text": [
      "C:\\Users\\user\\Anaconda3\\lib\\site-packages\\networkx\\drawing\\nx_pylab.py:579: MatplotlibDeprecationWarning: \n",
      "The iterable function was deprecated in Matplotlib 3.1 and will be removed in 3.3. Use np.iterable instead.\n",
      "  if not cb.iterable(width):\n"
     ]
    },
    {
     "data": {
      "image/png": "[encoded data removed]",
      "text/plain": [
       "<Figure size 432x288 with 1 Axes>"
      ]
     },
     "metadata": {},
     "output_type": "display_data"
    }
   ],
   "source": [
    "nx.draw_networkx(G)"
   ]
  }
 ],
 "metadata": {
  "kernelspec": {
   "display_name": "Python 3",
   "language": "python",
   "name": "python3"
  },
  "language_info": {
   "codemirror_mode": {
    "name": "ipython",
    "version": 3
   },
   "file_extension": ".py",
   "mimetype": "text/x-python",
   "name": "python",
   "nbconvert_exporter": "python",
   "pygments_lexer": "ipython3",
   "version": "3.7.4"
  }
 },
 "nbformat": 4,
 "nbformat_minor": 2
}
